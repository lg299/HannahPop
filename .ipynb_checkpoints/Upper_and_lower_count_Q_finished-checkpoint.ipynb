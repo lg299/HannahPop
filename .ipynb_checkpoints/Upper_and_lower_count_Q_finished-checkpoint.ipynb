{
 "cells": [
  {
   "cell_type": "code",
   "execution_count": 1,
   "id": "3cbf8246",
   "metadata": {},
   "outputs": [],
   "source": [
    "# Write a Python function that accepts a string and calculates the number of upper case letters and lower case letters."
   ]
  },
  {
   "cell_type": "code",
   "execution_count": 9,
   "id": "5ce60e50",
   "metadata": {},
   "outputs": [],
   "source": [
    "a = 'HellO'"
   ]
  },
  {
   "cell_type": "code",
   "execution_count": 18,
   "id": "27d6b7d0",
   "metadata": {},
   "outputs": [],
   "source": [
    "#make a function for detecting upper case and its' own count.\n",
    "\n",
    "def upper_and_lower_count(sentence):\n",
    "    #set two counters, one for upper one for lower, starting at 0\n",
    "    case_count = {\"upper\": 0, \"lower\": 0}\n",
    "    \n",
    "    #iterate through to find upper case\n",
    "    for letter in sentence:\n",
    "        if letter.isupper():\n",
    "            case_count[\"upper\"] += 1\n",
    "        \n",
    "    #iterate through to find lower case\n",
    "        elif letter.islower():\n",
    "            case_count[\"lower\"] += 1\n",
    "\n",
    "    \n",
    "    #print a statement to make it look pretty\n",
    "    \n",
    "    print(f\"Original string: \", sentence)\n",
    "    print(f\"\\nNumber of upper case letters:\", case_count[\"upper\"])\n",
    "    print(f\"\\nNumber of lower case letters:\", case_count[\"lower\"])"
   ]
  },
  {
   "cell_type": "code",
   "execution_count": 19,
   "id": "bcff4657",
   "metadata": {},
   "outputs": [
    {
     "name": "stdout",
     "output_type": "stream",
     "text": [
      "Original string:  HellO\n",
      "\n",
      "Number of upper case letters: 2\n",
      "\n",
      "Number of lower case letters: 3\n"
     ]
    }
   ],
   "source": [
    "upper_and_lower_count(\"HellO\")"
   ]
  },
  {
   "cell_type": "code",
   "execution_count": 22,
   "id": "2df67d01",
   "metadata": {},
   "outputs": [],
   "source": []
  },
  {
   "cell_type": "code",
   "execution_count": null,
   "id": "4729716e",
   "metadata": {},
   "outputs": [],
   "source": []
  },
  {
   "cell_type": "code",
   "execution_count": null,
   "id": "a96d5fba",
   "metadata": {},
   "outputs": [],
   "source": []
  }
 ],
 "metadata": {
  "kernelspec": {
   "display_name": "Python 3",
   "language": "python",
   "name": "python3"
  },
  "language_info": {
   "codemirror_mode": {
    "name": "ipython",
    "version": 3
   },
   "file_extension": ".py",
   "mimetype": "text/x-python",
   "name": "python",
   "nbconvert_exporter": "python",
   "pygments_lexer": "ipython3",
   "version": "3.8.8"
  }
 },
 "nbformat": 4,
 "nbformat_minor": 5
}
