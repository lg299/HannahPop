{
 "cells": [
  {
   "cell_type": "code",
   "execution_count": 1,
   "id": "3cbf8246",
   "metadata": {},
   "outputs": [],
   "source": [
    "# Write a Python function that accepts a string and calculates the number of upper case letters and lower case letters."
   ]
  },
  {
   "cell_type": "code",
   "execution_count": 9,
   "id": "5ce60e50",
   "metadata": {},
   "outputs": [],
   "source": [
    "a = 'HellO'"
   ]
  },
  {
   "cell_type": "code",
   "execution_count": 36,
   "id": "27d6b7d0",
   "metadata": {},
   "outputs": [],
   "source": [
    "#make a function for detecting upper case and its' own count.\n",
    "\n",
    "def up_let(s):\n",
    "    #set two counters, one for upper one for lower, starting at 0\n",
    "    c = {\"upper\": 0, \"lower\": 0}\n",
    "    \n",
    "    #iterate through to find upper case\n",
    "    for l in s:\n",
    "        if l.upper():\n",
    "            c[\"upper\"] += 1\n",
    "        \n",
    "    #iterate through to find lower case\n",
    "        elif c.islower():\n",
    "            c[\"upper\"] += 1\n",
    "        \n",
    "        \n",
    "    #pass the rest\n",
    "        else:\n",
    "            pass\n",
    "    \n",
    "    #print a statement to make it look pretty\n",
    "    \n",
    "    print(\"Original string: \", s)\n",
    "    print(\"Number of upper case letters:\", c[\"upper\"])\n",
    "    print(\"Number of lower case letters:\", c[\"lower\"])"
   ]
  },
  {
   "cell_type": "code",
   "execution_count": 35,
   "id": "bcff4657",
   "metadata": {},
   "outputs": [
    {
     "name": "stdout",
     "output_type": "stream",
     "text": [
      "Original string:  HellO\n",
      "Number of upper case letters: 5\n",
      "Number of lower case letters: 0\n"
     ]
    }
   ],
   "source": [
    "up_let(\"HellO\")"
   ]
  },
  {
   "cell_type": "code",
   "execution_count": 22,
   "id": "2df67d01",
   "metadata": {},
   "outputs": [],
   "source": []
  },
  {
   "cell_type": "code",
   "execution_count": null,
   "id": "4729716e",
   "metadata": {},
   "outputs": [],
   "source": []
  },
  {
   "cell_type": "code",
   "execution_count": null,
   "id": "a96d5fba",
   "metadata": {},
   "outputs": [],
   "source": []
  }
 ],
 "metadata": {
  "kernelspec": {
   "display_name": "Python 3",
   "language": "python",
   "name": "python3"
  },
  "language_info": {
   "codemirror_mode": {
    "name": "ipython",
    "version": 3
   },
   "file_extension": ".py",
   "mimetype": "text/x-python",
   "name": "python",
   "nbconvert_exporter": "python",
   "pygments_lexer": "ipython3",
   "version": "3.8.8"
  }
 },
 "nbformat": 4,
 "nbformat_minor": 5
}
